{
 "cells": [
  {
   "cell_type": "code",
   "execution_count": 1,
   "metadata": {},
   "outputs": [],
   "source": [
    "import numpy as np\n",
    "import pandas as pd\n",
    "\n",
    "from knn_regression import MyKNNReg"
   ]
  },
  {
   "cell_type": "code",
   "execution_count": 2,
   "metadata": {},
   "outputs": [],
   "source": [
    "from sklearn.datasets import load_diabetes\n",
    "from sklearn.model_selection import train_test_split\n",
    "from sklearn.metrics import mean_absolute_error\n",
    "\n",
    "data = load_diabetes(as_frame=True)\n",
    "X, y = data['data'], data['target']\n",
    "X_train, X_test, y_train, y_test = train_test_split(X, y, test_size=0.2, random_state=42)"
   ]
  },
  {
   "cell_type": "code",
   "execution_count": 3,
   "metadata": {},
   "outputs": [],
   "source": [
    "knn = MyKNNReg(3)\n",
    "knn.fit(X_train, y_train)\n",
    "y_pred = knn.predict(X_test)"
   ]
  },
  {
   "cell_type": "code",
   "execution_count": 4,
   "metadata": {},
   "outputs": [
    {
     "data": {
      "text/plain": [
       "array([130.66666667, 194.66666667, 145.        , 239.        ,\n",
       "       168.66666667, 131.33333333, 239.66666667, 177.66666667,\n",
       "        98.        ,  80.66666667,  72.        , 151.66666667,\n",
       "       120.66666667, 196.66666667,  67.        , 133.33333333,\n",
       "       263.        , 262.33333333, 207.33333333, 256.66666667,\n",
       "       150.66666667,  72.66666667,  94.33333333, 192.        ,\n",
       "       132.66666667, 145.66666667, 176.66666667, 158.33333333,\n",
       "        67.66666667, 108.33333333, 134.        , 142.33333333,\n",
       "        83.33333333, 196.66666667, 143.        , 246.        ,\n",
       "        73.66666667, 168.66666667, 170.66666667,  96.33333333,\n",
       "        84.33333333, 113.66666667, 133.        , 107.33333333,\n",
       "       211.        ,  77.        ,  61.        ,  71.        ,\n",
       "       101.66666667, 133.33333333, 157.66666667, 106.        ,\n",
       "       145.        , 125.33333333, 176.66666667, 143.33333333,\n",
       "        68.33333333, 164.33333333, 151.33333333,  72.        ,\n",
       "       145.66666667, 108.        ,  64.66666667,  73.66666667,\n",
       "       142.33333333, 148.66666667, 211.33333333, 152.        ,\n",
       "       159.        , 108.66666667, 108.66666667, 197.66666667,\n",
       "       188.        ,  75.        ,  88.        , 208.66666667,\n",
       "       177.66666667, 168.        , 213.33333333, 183.33333333,\n",
       "       146.33333333, 161.66666667,  54.33333333,  86.        ,\n",
       "       120.        , 119.66666667, 136.33333333,  96.        ,\n",
       "       148.        ])"
      ]
     },
     "execution_count": 4,
     "metadata": {},
     "output_type": "execute_result"
    }
   ],
   "source": [
    "y_pred"
   ]
  },
  {
   "cell_type": "code",
   "execution_count": 5,
   "metadata": {},
   "outputs": [
    {
     "data": {
      "text/plain": [
       "44.198501872659186"
      ]
     },
     "execution_count": 5,
     "metadata": {},
     "output_type": "execute_result"
    }
   ],
   "source": [
    "mean_absolute_error(y_test, y_pred)"
   ]
  },
  {
   "cell_type": "code",
   "execution_count": 6,
   "metadata": {},
   "outputs": [],
   "source": [
    "knn_2 = MyKNNReg(3, metric = 'cosine', weight = 'distance')\n",
    "knn_2.fit(X_train, y_train)\n",
    "y_pred_2 = knn_2.predict(X_test)"
   ]
  },
  {
   "cell_type": "code",
   "execution_count": 7,
   "metadata": {},
   "outputs": [
    {
     "data": {
      "text/plain": [
       "44.64767536742417"
      ]
     },
     "execution_count": 7,
     "metadata": {},
     "output_type": "execute_result"
    }
   ],
   "source": [
    "mean_absolute_error(y_test, y_pred_2)"
   ]
  },
  {
   "cell_type": "code",
   "execution_count": 8,
   "metadata": {},
   "outputs": [],
   "source": [
    "from sklearn.datasets import make_regression\n",
    "\n",
    "X, y = make_regression(n_samples=1000, n_features=14, n_informative=10, noise=15, random_state=42)\n",
    "X = pd.DataFrame(X)\n",
    "y = pd.Series(y)\n",
    "X.columns = [f'col_{col}' for col in X.columns]\n",
    "\n",
    "X_train, X_test, y_train, y_test = train_test_split(X, y, test_size=0.1, random_state=42)"
   ]
  },
  {
   "cell_type": "code",
   "execution_count": 9,
   "metadata": {},
   "outputs": [],
   "source": [
    "knn_3 = MyKNNReg(5, metric = 'chebyshev')\n",
    "knn_3.fit(X_train, y_train)\n",
    "y_pred_3 = knn_3.predict(X_test)"
   ]
  },
  {
   "cell_type": "code",
   "execution_count": 10,
   "metadata": {},
   "outputs": [
    {
     "data": {
      "text/plain": [
       "65.43849961227711"
      ]
     },
     "execution_count": 10,
     "metadata": {},
     "output_type": "execute_result"
    }
   ],
   "source": [
    "mean_absolute_error(y_test, y_pred_3)"
   ]
  },
  {
   "cell_type": "code",
   "execution_count": 11,
   "metadata": {},
   "outputs": [],
   "source": [
    "knn_4 = MyKNNReg(5, metric = 'manhattan', weight = 'rank')\n",
    "knn_4.fit(X_train, y_train)\n",
    "y_pred_4 = knn_4.predict(X_test)"
   ]
  },
  {
   "cell_type": "code",
   "execution_count": 12,
   "metadata": {},
   "outputs": [
    {
     "data": {
      "text/plain": [
       "60.19585957564637"
      ]
     },
     "execution_count": 12,
     "metadata": {},
     "output_type": "execute_result"
    }
   ],
   "source": [
    "mean_absolute_error(y_test, y_pred_4)"
   ]
  }
 ],
 "metadata": {
  "kernelspec": {
   "display_name": "base",
   "language": "python",
   "name": "python3"
  },
  "language_info": {
   "codemirror_mode": {
    "name": "ipython",
    "version": 3
   },
   "file_extension": ".py",
   "mimetype": "text/x-python",
   "name": "python",
   "nbconvert_exporter": "python",
   "pygments_lexer": "ipython3",
   "version": "3.9.12"
  },
  "orig_nbformat": 4
 },
 "nbformat": 4,
 "nbformat_minor": 2
}
