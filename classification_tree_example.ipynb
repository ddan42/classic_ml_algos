{
 "cells": [
  {
   "cell_type": "code",
   "execution_count": 1,
   "metadata": {},
   "outputs": [],
   "source": [
    "import numpy as np\n",
    "import pandas as pd\n",
    "\n",
    "from sklearn.model_selection import train_test_split\n",
    "from sklearn.metrics import confusion_matrix\n",
    "from sklearn.datasets import make_classification\n",
    "\n",
    "from classification_tree import MyTreeClf"
   ]
  },
  {
   "cell_type": "code",
   "execution_count": 2,
   "metadata": {},
   "outputs": [],
   "source": [
    "df = pd.read_csv('https://archive.ics.uci.edu/static/public/267/banknote+authentication.zip', header=None)\n",
    "df.columns = ['variance', 'skewness', 'curtosis', 'entropy', 'target']\n",
    "X, y = df.iloc[:,:4], df['target']"
   ]
  },
  {
   "cell_type": "code",
   "execution_count": 4,
   "metadata": {},
   "outputs": [
    {
     "data": {
      "text/html": [
       "<div>\n",
       "<style scoped>\n",
       "    .dataframe tbody tr th:only-of-type {\n",
       "        vertical-align: middle;\n",
       "    }\n",
       "\n",
       "    .dataframe tbody tr th {\n",
       "        vertical-align: top;\n",
       "    }\n",
       "\n",
       "    .dataframe thead th {\n",
       "        text-align: right;\n",
       "    }\n",
       "</style>\n",
       "<table border=\"1\" class=\"dataframe\">\n",
       "  <thead>\n",
       "    <tr style=\"text-align: right;\">\n",
       "      <th></th>\n",
       "      <th>variance</th>\n",
       "      <th>skewness</th>\n",
       "      <th>curtosis</th>\n",
       "      <th>entropy</th>\n",
       "    </tr>\n",
       "  </thead>\n",
       "  <tbody>\n",
       "    <tr>\n",
       "      <th>0</th>\n",
       "      <td>3.62160</td>\n",
       "      <td>8.6661</td>\n",
       "      <td>-2.8073</td>\n",
       "      <td>-0.44699</td>\n",
       "    </tr>\n",
       "    <tr>\n",
       "      <th>1</th>\n",
       "      <td>4.54590</td>\n",
       "      <td>8.1674</td>\n",
       "      <td>-2.4586</td>\n",
       "      <td>-1.46210</td>\n",
       "    </tr>\n",
       "    <tr>\n",
       "      <th>2</th>\n",
       "      <td>3.86600</td>\n",
       "      <td>-2.6383</td>\n",
       "      <td>1.9242</td>\n",
       "      <td>0.10645</td>\n",
       "    </tr>\n",
       "    <tr>\n",
       "      <th>3</th>\n",
       "      <td>3.45660</td>\n",
       "      <td>9.5228</td>\n",
       "      <td>-4.0112</td>\n",
       "      <td>-3.59440</td>\n",
       "    </tr>\n",
       "    <tr>\n",
       "      <th>4</th>\n",
       "      <td>0.32924</td>\n",
       "      <td>-4.4552</td>\n",
       "      <td>4.5718</td>\n",
       "      <td>-0.98880</td>\n",
       "    </tr>\n",
       "  </tbody>\n",
       "</table>\n",
       "</div>"
      ],
      "text/plain": [
       "   variance  skewness  curtosis  entropy\n",
       "0   3.62160    8.6661   -2.8073 -0.44699\n",
       "1   4.54590    8.1674   -2.4586 -1.46210\n",
       "2   3.86600   -2.6383    1.9242  0.10645\n",
       "3   3.45660    9.5228   -4.0112 -3.59440\n",
       "4   0.32924   -4.4552    4.5718 -0.98880"
      ]
     },
     "execution_count": 4,
     "metadata": {},
     "output_type": "execute_result"
    }
   ],
   "source": [
    "X.head()"
   ]
  },
  {
   "cell_type": "code",
   "execution_count": 5,
   "metadata": {},
   "outputs": [],
   "source": [
    "X_train, X_test, y_train, y_test = train_test_split(X, y, test_size=0.2, random_state=42)"
   ]
  },
  {
   "cell_type": "code",
   "execution_count": 6,
   "metadata": {},
   "outputs": [
    {
     "data": {
      "text/plain": [
       "((1097, 4), (275, 4))"
      ]
     },
     "execution_count": 6,
     "metadata": {},
     "output_type": "execute_result"
    }
   ],
   "source": [
    "X_train.shape, X_test.shape"
   ]
  },
  {
   "cell_type": "code",
   "execution_count": 7,
   "metadata": {},
   "outputs": [],
   "source": [
    "tree = MyTreeClf()\n",
    "tree.fit(X_train, y_train)"
   ]
  },
  {
   "cell_type": "code",
   "execution_count": 8,
   "metadata": {},
   "outputs": [
    {
     "name": "stdout",
     "output_type": "stream",
     "text": [
      "variance 0.320165\n",
      " skewness 5.86535\n",
      "  curtosis 3.0642\n",
      "   leaf_left 1.0\n",
      "   skewness -1.81995\n",
      "    variance -0.651195\n",
      "     leaf_left 1.0\n",
      "     leaf_right 0.6\n",
      "    variance -2.15635\n",
      "     leaf_left 0.6666666666666666\n",
      "     leaf_right 0.0\n",
      "  variance -3.4448999999999996\n",
      "   curtosis 2.1114\n",
      "    leaf_left 1.0\n",
      "    leaf_right 0.0\n",
      "   leaf_right 0.0\n",
      " variance 2.2354000000000003\n",
      "  curtosis -2.2721999999999998\n",
      "   skewness 6.41995\n",
      "    leaf_left 1.0\n",
      "    leaf_right 0.0\n",
      "   entropy 0.22994\n",
      "    variance 0.42002\n",
      "     leaf_left 0.07142857142857142\n",
      "     leaf_right 0.0\n",
      "    curtosis 0.28118\n",
      "     leaf_left 0.8181818181818182\n",
      "     leaf_right 0.034482758620689655\n",
      "  leaf_right 0.0\n"
     ]
    }
   ],
   "source": [
    "tree.print_tree()"
   ]
  },
  {
   "cell_type": "code",
   "execution_count": 15,
   "metadata": {},
   "outputs": [],
   "source": [
    "preds = tree.predict(X_test)"
   ]
  },
  {
   "cell_type": "code",
   "execution_count": 16,
   "metadata": {},
   "outputs": [],
   "source": [
    "preds = np.array(preds)"
   ]
  },
  {
   "cell_type": "code",
   "execution_count": 17,
   "metadata": {},
   "outputs": [
    {
     "data": {
      "text/plain": [
       "array([0, 0, 0, 0, 0, 0, 0, 0, 0, 0, 1, 1, 0, 1, 0, 1, 1, 1, 1, 1, 0, 0,\n",
       "       1, 0, 1, 0, 0, 1, 0, 0, 1, 0, 0, 1, 1, 0, 1, 1, 1, 0, 0, 1, 1, 0,\n",
       "       1, 1, 1, 0, 0, 1, 0, 0, 0, 0, 0, 1, 0, 0, 0, 0, 1, 0, 1, 0, 0, 0,\n",
       "       0, 1, 0, 1, 1, 0, 1, 0, 0, 0, 0, 1, 1, 1, 1, 0, 1, 0, 0, 0, 0, 1,\n",
       "       1, 0, 0, 0, 0, 1, 0, 1, 1, 0, 0, 0, 1, 0, 0, 0, 1, 0, 0, 1, 1, 1,\n",
       "       1, 1, 0, 1, 1, 1, 0, 1, 1, 0, 1, 0, 1, 0, 1, 0, 1, 1, 0, 1, 1, 0,\n",
       "       0, 0, 0, 0, 1, 0, 0, 0, 0, 0, 1, 0, 1, 1, 1, 1, 1, 0, 1, 1, 1, 0,\n",
       "       1, 0, 1, 0, 0, 0, 1, 1, 1, 1, 1, 0, 1, 0, 0, 0, 0, 0, 0, 1, 0, 0,\n",
       "       1, 1, 0, 0, 0, 0, 1, 0, 1, 0, 1, 1, 0, 0, 1, 0, 0, 1, 1, 1, 0, 0,\n",
       "       0, 1, 1, 1, 0, 0, 1, 1, 1, 1, 0, 0, 0, 0, 0, 0, 0, 0, 0, 0, 1, 1,\n",
       "       1, 1, 1, 0, 1, 0, 0, 1, 1, 1, 1, 0, 0, 0, 1, 1, 1, 1, 0, 0, 0, 1,\n",
       "       0, 1, 1, 1, 0, 0, 0, 0, 0, 0, 1, 0, 0, 0, 0, 0, 1, 1, 0, 0, 0, 1,\n",
       "       1, 0, 1, 0, 1, 1, 1, 1, 0, 0, 0])"
      ]
     },
     "execution_count": 17,
     "metadata": {},
     "output_type": "execute_result"
    }
   ],
   "source": [
    "preds = np.where(preds>0.5, 1, 0)\n",
    "preds"
   ]
  },
  {
   "cell_type": "code",
   "execution_count": 18,
   "metadata": {},
   "outputs": [
    {
     "data": {
      "text/plain": [
       "array([[147,   1],\n",
       "       [  5, 122]])"
      ]
     },
     "execution_count": 18,
     "metadata": {},
     "output_type": "execute_result"
    }
   ],
   "source": [
    "confusion_matrix(y_test, preds)"
   ]
  },
  {
   "cell_type": "code",
   "execution_count": 21,
   "metadata": {},
   "outputs": [],
   "source": [
    "tree2 = MyTreeClf(5, 10, 20, criterion='gini')\n",
    "tree2.fit(X_train, y_train)"
   ]
  },
  {
   "cell_type": "code",
   "execution_count": 22,
   "metadata": {},
   "outputs": [
    {
     "data": {
      "text/plain": [
       "MyTreeClf class: max_depth=5, min_samples_split=10, max_leaves=20"
      ]
     },
     "execution_count": 22,
     "metadata": {},
     "output_type": "execute_result"
    }
   ],
   "source": [
    "tree2"
   ]
  },
  {
   "cell_type": "code",
   "execution_count": 23,
   "metadata": {},
   "outputs": [
    {
     "name": "stdout",
     "output_type": "stream",
     "text": [
      "variance 0.320165\n",
      " skewness 7.76395\n",
      "  variance -0.458565\n",
      "   curtosis 6.21865\n",
      "    skewness 7.2249\n",
      "     leaf_left 1.0\n",
      "     leaf_right 0.8\n",
      "    skewness -4.6745\n",
      "     leaf_left 1.0\n",
      "     leaf_right 0.08333333333333333\n",
      "   curtosis 2.62465\n",
      "    skewness 5.45355\n",
      "     leaf_left 1.0\n",
      "     leaf_right 0.0\n",
      "    leaf_right 0.0\n",
      "  variance -4.726\n",
      "   leaf_left 1.0\n",
      "   leaf_right 0.0\n",
      " curtosis -4.45585\n",
      "  variance 3.22215\n",
      "   leaf_left 1.0\n",
      "   leaf_right 0.0\n",
      "  variance 1.5652\n",
      "   curtosis -2.2721999999999998\n",
      "    skewness 5.6574\n",
      "     leaf_left 1.0\n",
      "     leaf_right 0.0\n",
      "    entropy 0.22994\n",
      "     leaf_left 0.009433962264150943\n",
      "     leaf_right 0.45454545454545453\n",
      "   variance 2.0388\n",
      "    curtosis -2.6483499999999998\n",
      "     leaf_left 0.75\n",
      "     leaf_right 0.0\n",
      "    leaf_right 0.0\n"
     ]
    }
   ],
   "source": [
    "tree2.print_tree()"
   ]
  },
  {
   "cell_type": "code",
   "execution_count": 24,
   "metadata": {},
   "outputs": [],
   "source": [
    "preds_2 = tree2.predict(X_test)"
   ]
  },
  {
   "cell_type": "code",
   "execution_count": 25,
   "metadata": {},
   "outputs": [
    {
     "data": {
      "text/plain": [
       "array([0, 0, 0, 0, 0, 0, 0, 0, 0, 0, 1, 1, 0, 1, 0, 1, 1, 1, 1, 1, 0, 0,\n",
       "       1, 0, 1, 0, 0, 1, 0, 0, 1, 0, 0, 1, 1, 0, 1, 0, 1, 0, 0, 1, 1, 0,\n",
       "       1, 1, 1, 0, 0, 1, 0, 0, 0, 0, 0, 1, 0, 0, 0, 0, 1, 0, 1, 0, 0, 0,\n",
       "       0, 0, 0, 1, 1, 0, 1, 0, 0, 0, 0, 1, 1, 1, 1, 0, 1, 0, 0, 0, 0, 1,\n",
       "       1, 0, 0, 0, 0, 1, 0, 1, 1, 0, 0, 0, 1, 0, 0, 0, 1, 0, 0, 1, 1, 1,\n",
       "       1, 1, 0, 1, 1, 1, 0, 1, 1, 0, 1, 0, 0, 0, 1, 0, 1, 1, 0, 1, 1, 0,\n",
       "       0, 0, 0, 0, 1, 0, 0, 0, 0, 0, 1, 0, 1, 1, 1, 1, 1, 0, 1, 1, 1, 0,\n",
       "       1, 0, 1, 0, 0, 0, 1, 1, 1, 1, 0, 0, 1, 0, 0, 0, 0, 0, 0, 1, 0, 0,\n",
       "       1, 1, 0, 0, 0, 0, 1, 0, 1, 0, 1, 1, 0, 0, 1, 0, 0, 1, 1, 1, 0, 0,\n",
       "       0, 1, 1, 1, 0, 0, 1, 1, 1, 1, 0, 0, 0, 0, 0, 0, 0, 0, 0, 0, 1, 1,\n",
       "       1, 1, 1, 0, 1, 0, 0, 1, 1, 1, 1, 0, 0, 0, 1, 1, 1, 1, 0, 0, 0, 1,\n",
       "       0, 1, 1, 1, 0, 0, 0, 0, 0, 0, 1, 0, 1, 0, 0, 0, 1, 1, 0, 0, 0, 1,\n",
       "       1, 0, 1, 0, 1, 0, 1, 0, 0, 0, 0])"
      ]
     },
     "execution_count": 25,
     "metadata": {},
     "output_type": "execute_result"
    }
   ],
   "source": [
    "preds_2 = np.array(preds_2)\n",
    "preds_2 = np.where(preds_2>0.5, 1, 0)\n",
    "preds_2"
   ]
  },
  {
   "cell_type": "code",
   "execution_count": 26,
   "metadata": {},
   "outputs": [
    {
     "data": {
      "text/plain": [
       "array([[148,   0],\n",
       "       [  9, 118]])"
      ]
     },
     "execution_count": 26,
     "metadata": {},
     "output_type": "execute_result"
    }
   ],
   "source": [
    "confusion_matrix(y_test, preds_2)"
   ]
  },
  {
   "cell_type": "code",
   "execution_count": 44,
   "metadata": {},
   "outputs": [],
   "source": [
    "X, y = make_classification(n_samples=1000, n_features=14, n_informative=10, random_state=42)\n",
    "X = pd.DataFrame(X)\n",
    "y = pd.Series(y)\n",
    "X.columns = [f'col_{col}' for col in X.columns]\n",
    "X_test = X.sample(n=150, random_state = 42)\n",
    "y_test = y.loc[X_test.index]"
   ]
  },
  {
   "cell_type": "code",
   "execution_count": 45,
   "metadata": {},
   "outputs": [
    {
     "data": {
      "text/html": [
       "<div>\n",
       "<style scoped>\n",
       "    .dataframe tbody tr th:only-of-type {\n",
       "        vertical-align: middle;\n",
       "    }\n",
       "\n",
       "    .dataframe tbody tr th {\n",
       "        vertical-align: top;\n",
       "    }\n",
       "\n",
       "    .dataframe thead th {\n",
       "        text-align: right;\n",
       "    }\n",
       "</style>\n",
       "<table border=\"1\" class=\"dataframe\">\n",
       "  <thead>\n",
       "    <tr style=\"text-align: right;\">\n",
       "      <th></th>\n",
       "      <th>col_0</th>\n",
       "      <th>col_1</th>\n",
       "      <th>col_2</th>\n",
       "      <th>col_3</th>\n",
       "      <th>col_4</th>\n",
       "      <th>col_5</th>\n",
       "      <th>col_6</th>\n",
       "      <th>col_7</th>\n",
       "      <th>col_8</th>\n",
       "      <th>col_9</th>\n",
       "      <th>col_10</th>\n",
       "      <th>col_11</th>\n",
       "      <th>col_12</th>\n",
       "      <th>col_13</th>\n",
       "    </tr>\n",
       "  </thead>\n",
       "  <tbody>\n",
       "    <tr>\n",
       "      <th>521</th>\n",
       "      <td>-7.076086</td>\n",
       "      <td>-0.453260</td>\n",
       "      <td>-0.636779</td>\n",
       "      <td>2.767567</td>\n",
       "      <td>0.487817</td>\n",
       "      <td>4.505408</td>\n",
       "      <td>1.827859</td>\n",
       "      <td>3.830747</td>\n",
       "      <td>-2.269701</td>\n",
       "      <td>2.164781</td>\n",
       "      <td>-2.407617</td>\n",
       "      <td>0.539655</td>\n",
       "      <td>1.718440</td>\n",
       "      <td>-1.616646</td>\n",
       "    </tr>\n",
       "    <tr>\n",
       "      <th>737</th>\n",
       "      <td>5.707872</td>\n",
       "      <td>0.003583</td>\n",
       "      <td>0.420771</td>\n",
       "      <td>0.839401</td>\n",
       "      <td>5.012524</td>\n",
       "      <td>-1.403803</td>\n",
       "      <td>0.203846</td>\n",
       "      <td>1.354653</td>\n",
       "      <td>4.154947</td>\n",
       "      <td>-1.576621</td>\n",
       "      <td>1.201844</td>\n",
       "      <td>0.772307</td>\n",
       "      <td>-0.194664</td>\n",
       "      <td>0.992817</td>\n",
       "    </tr>\n",
       "    <tr>\n",
       "      <th>740</th>\n",
       "      <td>4.970085</td>\n",
       "      <td>-0.125819</td>\n",
       "      <td>-0.250745</td>\n",
       "      <td>-2.620766</td>\n",
       "      <td>1.345045</td>\n",
       "      <td>1.875148</td>\n",
       "      <td>-4.563262</td>\n",
       "      <td>2.697279</td>\n",
       "      <td>3.098685</td>\n",
       "      <td>-1.751910</td>\n",
       "      <td>4.050941</td>\n",
       "      <td>-1.315866</td>\n",
       "      <td>-1.073091</td>\n",
       "      <td>1.157727</td>\n",
       "    </tr>\n",
       "    <tr>\n",
       "      <th>660</th>\n",
       "      <td>1.429822</td>\n",
       "      <td>0.915654</td>\n",
       "      <td>-2.512073</td>\n",
       "      <td>1.381450</td>\n",
       "      <td>0.881182</td>\n",
       "      <td>-0.361891</td>\n",
       "      <td>-0.058583</td>\n",
       "      <td>-0.422694</td>\n",
       "      <td>4.356675</td>\n",
       "      <td>-2.311557</td>\n",
       "      <td>-1.865138</td>\n",
       "      <td>4.473568</td>\n",
       "      <td>1.186416</td>\n",
       "      <td>0.180454</td>\n",
       "    </tr>\n",
       "    <tr>\n",
       "      <th>411</th>\n",
       "      <td>4.223676</td>\n",
       "      <td>0.440494</td>\n",
       "      <td>1.380958</td>\n",
       "      <td>-3.104249</td>\n",
       "      <td>-2.525465</td>\n",
       "      <td>-1.239507</td>\n",
       "      <td>-2.358298</td>\n",
       "      <td>2.097283</td>\n",
       "      <td>2.462375</td>\n",
       "      <td>-1.042123</td>\n",
       "      <td>1.430780</td>\n",
       "      <td>0.790309</td>\n",
       "      <td>-0.075027</td>\n",
       "      <td>-0.369003</td>\n",
       "    </tr>\n",
       "  </tbody>\n",
       "</table>\n",
       "</div>"
      ],
      "text/plain": [
       "        col_0     col_1     col_2     col_3     col_4     col_5     col_6  \\\n",
       "521 -7.076086 -0.453260 -0.636779  2.767567  0.487817  4.505408  1.827859   \n",
       "737  5.707872  0.003583  0.420771  0.839401  5.012524 -1.403803  0.203846   \n",
       "740  4.970085 -0.125819 -0.250745 -2.620766  1.345045  1.875148 -4.563262   \n",
       "660  1.429822  0.915654 -2.512073  1.381450  0.881182 -0.361891 -0.058583   \n",
       "411  4.223676  0.440494  1.380958 -3.104249 -2.525465 -1.239507 -2.358298   \n",
       "\n",
       "        col_7     col_8     col_9    col_10    col_11    col_12    col_13  \n",
       "521  3.830747 -2.269701  2.164781 -2.407617  0.539655  1.718440 -1.616646  \n",
       "737  1.354653  4.154947 -1.576621  1.201844  0.772307 -0.194664  0.992817  \n",
       "740  2.697279  3.098685 -1.751910  4.050941 -1.315866 -1.073091  1.157727  \n",
       "660 -0.422694  4.356675 -2.311557 -1.865138  4.473568  1.186416  0.180454  \n",
       "411  2.097283  2.462375 -1.042123  1.430780  0.790309 -0.075027 -0.369003  "
      ]
     },
     "execution_count": 45,
     "metadata": {},
     "output_type": "execute_result"
    }
   ],
   "source": [
    "X_test.head()"
   ]
  },
  {
   "cell_type": "code",
   "execution_count": 50,
   "metadata": {},
   "outputs": [],
   "source": [
    "tree3 = MyTreeClf(3, 20, 10)\n",
    "tree3.fit(X, y)"
   ]
  },
  {
   "cell_type": "code",
   "execution_count": 51,
   "metadata": {},
   "outputs": [
    {
     "name": "stdout",
     "output_type": "stream",
     "text": [
      "col_4 -0.032813398968507546\n",
      " col_13 -1.7098345996002615\n",
      "  col_9 1.66622032336373\n",
      "   leaf_left 0.46511627906976744\n",
      "   leaf_right 0.0\n",
      "  col_10 0.256667471292098\n",
      "   leaf_left 0.6889763779527559\n",
      "   leaf_right 0.9554140127388535\n",
      " col_10 0.6409800682452367\n",
      "  col_6 0.37836029954673145\n",
      "   leaf_left 0.3076923076923077\n",
      "   leaf_right 0.0392156862745098\n",
      "  col_8 -1.1426770157567585\n",
      "   leaf_left 0.15384615384615385\n",
      "   leaf_right 0.8641975308641975\n"
     ]
    }
   ],
   "source": [
    "tree3.print_tree()"
   ]
  },
  {
   "cell_type": "code",
   "execution_count": 52,
   "metadata": {},
   "outputs": [
    {
     "data": {
      "text/plain": [
       "array([0, 1, 1, 0, 1, 0, 1, 0, 1, 0, 1, 1, 0, 0, 1, 1, 0, 0, 0, 0, 1, 0,\n",
       "       1, 1, 0, 0, 1, 0, 1, 0, 0, 1, 1, 0, 0, 1, 0, 1, 0, 0, 1, 1, 0, 1,\n",
       "       0, 0, 1, 0, 1, 1, 0, 1, 0, 1, 1, 1, 1, 0, 1, 0, 0, 1, 1, 0, 1, 1,\n",
       "       1, 0, 0, 1, 1, 1, 0, 0, 1, 1, 0, 0, 0, 0, 0, 1, 0, 0, 1, 1, 0, 1,\n",
       "       1, 0, 1, 0, 0, 0, 0, 1, 0, 1, 0, 0, 0, 1, 1, 0, 1, 0, 1, 0, 0, 1,\n",
       "       0, 1, 1, 1, 1, 1, 1, 1, 1, 0, 0, 0, 0, 1, 1, 1, 1, 0, 0, 1, 1, 0,\n",
       "       0, 1, 0, 0, 1, 1, 1, 1, 0, 1, 1, 0, 0, 0, 1, 1, 1, 1])"
      ]
     },
     "execution_count": 52,
     "metadata": {},
     "output_type": "execute_result"
    }
   ],
   "source": [
    "preds_3 = tree3.predict(X_test)\n",
    "preds_3 = np.array(preds_3)\n",
    "preds_3 = np.where(preds_3>0.5, 1, 0)\n",
    "preds_3"
   ]
  },
  {
   "cell_type": "code",
   "execution_count": 53,
   "metadata": {},
   "outputs": [
    {
     "data": {
      "text/plain": [
       "array([[55, 16],\n",
       "       [17, 62]])"
      ]
     },
     "execution_count": 53,
     "metadata": {},
     "output_type": "execute_result"
    }
   ],
   "source": [
    "confusion_matrix(y_test, preds_3)"
   ]
  }
 ],
 "metadata": {
  "kernelspec": {
   "display_name": "base",
   "language": "python",
   "name": "python3"
  },
  "language_info": {
   "codemirror_mode": {
    "name": "ipython",
    "version": 3
   },
   "file_extension": ".py",
   "mimetype": "text/x-python",
   "name": "python",
   "nbconvert_exporter": "python",
   "pygments_lexer": "ipython3",
   "version": "3.9.12"
  },
  "orig_nbformat": 4
 },
 "nbformat": 4,
 "nbformat_minor": 2
}
